{
  "nbformat": 4,
  "nbformat_minor": 0,
  "metadata": {
    "colab": {
      "provenance": [],
      "collapsed_sections": []
    },
    "kernelspec": {
      "name": "python3",
      "display_name": "Python 3"
    },
    "language_info": {
      "name": "python"
    }
  },
  "cells": [
    {
      "cell_type": "code",
      "execution_count": 1,
      "metadata": {
        "id": "W3tIG4lucieJ",
        "colab": {
          "base_uri": "https://localhost:8080/"
        },
        "outputId": "679b809a-94d8-426f-e980-38643c3825b6"
      },
      "outputs": [
        {
          "output_type": "stream",
          "name": "stdout",
          "text": [
            "Looking in indexes: https://pypi.org/simple, https://us-python.pkg.dev/colab-wheels/public/simple/\n",
            "Collecting navec\n",
            "  Downloading navec-0.10.0-py3-none-any.whl (23 kB)\n",
            "Requirement already satisfied: numpy in /usr/local/lib/python3.7/dist-packages (from navec) (1.21.6)\n",
            "Installing collected packages: navec\n",
            "Successfully installed navec-0.10.0\n",
            "Looking in indexes: https://pypi.org/simple, https://us-python.pkg.dev/colab-wheels/public/simple/\n",
            "Collecting tensorflow-text\n",
            "  Downloading tensorflow_text-2.10.0-cp37-cp37m-manylinux_2_17_x86_64.manylinux2014_x86_64.whl (5.9 MB)\n",
            "\u001b[K     |████████████████████████████████| 5.9 MB 34.7 MB/s \n",
            "\u001b[?25hRequirement already satisfied: tensorflow-hub>=0.8.0 in /usr/local/lib/python3.7/dist-packages (from tensorflow-text) (0.12.0)\n",
            "Collecting tensorflow<2.11,>=2.10.0\n",
            "  Downloading tensorflow-2.10.0-cp37-cp37m-manylinux_2_17_x86_64.manylinux2014_x86_64.whl (578.0 MB)\n",
            "\u001b[K     |████████████████████████████████| 578.0 MB 19 kB/s \n",
            "\u001b[?25hRequirement already satisfied: typing-extensions>=3.6.6 in /usr/local/lib/python3.7/dist-packages (from tensorflow<2.11,>=2.10.0->tensorflow-text) (4.1.1)\n",
            "Requirement already satisfied: keras-preprocessing>=1.1.1 in /usr/local/lib/python3.7/dist-packages (from tensorflow<2.11,>=2.10.0->tensorflow-text) (1.1.2)\n",
            "Requirement already satisfied: setuptools in /usr/local/lib/python3.7/dist-packages (from tensorflow<2.11,>=2.10.0->tensorflow-text) (57.4.0)\n",
            "Requirement already satisfied: wrapt>=1.11.0 in /usr/local/lib/python3.7/dist-packages (from tensorflow<2.11,>=2.10.0->tensorflow-text) (1.14.1)\n",
            "Requirement already satisfied: packaging in /usr/local/lib/python3.7/dist-packages (from tensorflow<2.11,>=2.10.0->tensorflow-text) (21.3)\n",
            "Requirement already satisfied: protobuf<3.20,>=3.9.2 in /usr/local/lib/python3.7/dist-packages (from tensorflow<2.11,>=2.10.0->tensorflow-text) (3.19.6)\n",
            "Collecting flatbuffers>=2.0\n",
            "  Downloading flatbuffers-22.10.26-py2.py3-none-any.whl (26 kB)\n",
            "Collecting keras<2.11,>=2.10.0\n",
            "  Downloading keras-2.10.0-py2.py3-none-any.whl (1.7 MB)\n",
            "\u001b[K     |████████████████████████████████| 1.7 MB 54.4 MB/s \n",
            "\u001b[?25hRequirement already satisfied: termcolor>=1.1.0 in /usr/local/lib/python3.7/dist-packages (from tensorflow<2.11,>=2.10.0->tensorflow-text) (2.1.0)\n",
            "Requirement already satisfied: absl-py>=1.0.0 in /usr/local/lib/python3.7/dist-packages (from tensorflow<2.11,>=2.10.0->tensorflow-text) (1.3.0)\n",
            "Collecting tensorflow-estimator<2.11,>=2.10.0\n",
            "  Downloading tensorflow_estimator-2.10.0-py2.py3-none-any.whl (438 kB)\n",
            "\u001b[K     |████████████████████████████████| 438 kB 67.1 MB/s \n",
            "\u001b[?25hRequirement already satisfied: google-pasta>=0.1.1 in /usr/local/lib/python3.7/dist-packages (from tensorflow<2.11,>=2.10.0->tensorflow-text) (0.2.0)\n",
            "Collecting tensorboard<2.11,>=2.10\n",
            "  Downloading tensorboard-2.10.1-py3-none-any.whl (5.9 MB)\n",
            "\u001b[K     |████████████████████████████████| 5.9 MB 76.6 MB/s \n",
            "\u001b[?25hRequirement already satisfied: astunparse>=1.6.0 in /usr/local/lib/python3.7/dist-packages (from tensorflow<2.11,>=2.10.0->tensorflow-text) (1.6.3)\n",
            "Requirement already satisfied: tensorflow-io-gcs-filesystem>=0.23.1 in /usr/local/lib/python3.7/dist-packages (from tensorflow<2.11,>=2.10.0->tensorflow-text) (0.27.0)\n",
            "Requirement already satisfied: six>=1.12.0 in /usr/local/lib/python3.7/dist-packages (from tensorflow<2.11,>=2.10.0->tensorflow-text) (1.15.0)\n",
            "Requirement already satisfied: opt-einsum>=2.3.2 in /usr/local/lib/python3.7/dist-packages (from tensorflow<2.11,>=2.10.0->tensorflow-text) (3.3.0)\n",
            "Requirement already satisfied: libclang>=13.0.0 in /usr/local/lib/python3.7/dist-packages (from tensorflow<2.11,>=2.10.0->tensorflow-text) (14.0.6)\n",
            "Requirement already satisfied: numpy>=1.20 in /usr/local/lib/python3.7/dist-packages (from tensorflow<2.11,>=2.10.0->tensorflow-text) (1.21.6)\n",
            "Requirement already satisfied: grpcio<2.0,>=1.24.3 in /usr/local/lib/python3.7/dist-packages (from tensorflow<2.11,>=2.10.0->tensorflow-text) (1.50.0)\n",
            "Requirement already satisfied: gast<=0.4.0,>=0.2.1 in /usr/local/lib/python3.7/dist-packages (from tensorflow<2.11,>=2.10.0->tensorflow-text) (0.4.0)\n",
            "Requirement already satisfied: h5py>=2.9.0 in /usr/local/lib/python3.7/dist-packages (from tensorflow<2.11,>=2.10.0->tensorflow-text) (3.1.0)\n",
            "Requirement already satisfied: wheel<1.0,>=0.23.0 in /usr/local/lib/python3.7/dist-packages (from astunparse>=1.6.0->tensorflow<2.11,>=2.10.0->tensorflow-text) (0.38.3)\n",
            "Requirement already satisfied: cached-property in /usr/local/lib/python3.7/dist-packages (from h5py>=2.9.0->tensorflow<2.11,>=2.10.0->tensorflow-text) (1.5.2)\n",
            "Requirement already satisfied: markdown>=2.6.8 in /usr/local/lib/python3.7/dist-packages (from tensorboard<2.11,>=2.10->tensorflow<2.11,>=2.10.0->tensorflow-text) (3.4.1)\n",
            "Requirement already satisfied: requests<3,>=2.21.0 in /usr/local/lib/python3.7/dist-packages (from tensorboard<2.11,>=2.10->tensorflow<2.11,>=2.10.0->tensorflow-text) (2.23.0)\n",
            "Requirement already satisfied: tensorboard-data-server<0.7.0,>=0.6.0 in /usr/local/lib/python3.7/dist-packages (from tensorboard<2.11,>=2.10->tensorflow<2.11,>=2.10.0->tensorflow-text) (0.6.1)\n",
            "Requirement already satisfied: tensorboard-plugin-wit>=1.6.0 in /usr/local/lib/python3.7/dist-packages (from tensorboard<2.11,>=2.10->tensorflow<2.11,>=2.10.0->tensorflow-text) (1.8.1)\n",
            "Requirement already satisfied: google-auth<3,>=1.6.3 in /usr/local/lib/python3.7/dist-packages (from tensorboard<2.11,>=2.10->tensorflow<2.11,>=2.10.0->tensorflow-text) (2.14.1)\n",
            "Requirement already satisfied: google-auth-oauthlib<0.5,>=0.4.1 in /usr/local/lib/python3.7/dist-packages (from tensorboard<2.11,>=2.10->tensorflow<2.11,>=2.10.0->tensorflow-text) (0.4.6)\n",
            "Requirement already satisfied: werkzeug>=1.0.1 in /usr/local/lib/python3.7/dist-packages (from tensorboard<2.11,>=2.10->tensorflow<2.11,>=2.10.0->tensorflow-text) (1.0.1)\n",
            "Requirement already satisfied: pyasn1-modules>=0.2.1 in /usr/local/lib/python3.7/dist-packages (from google-auth<3,>=1.6.3->tensorboard<2.11,>=2.10->tensorflow<2.11,>=2.10.0->tensorflow-text) (0.2.8)\n",
            "Requirement already satisfied: rsa<5,>=3.1.4 in /usr/local/lib/python3.7/dist-packages (from google-auth<3,>=1.6.3->tensorboard<2.11,>=2.10->tensorflow<2.11,>=2.10.0->tensorflow-text) (4.9)\n",
            "Requirement already satisfied: cachetools<6.0,>=2.0.0 in /usr/local/lib/python3.7/dist-packages (from google-auth<3,>=1.6.3->tensorboard<2.11,>=2.10->tensorflow<2.11,>=2.10.0->tensorflow-text) (5.2.0)\n",
            "Requirement already satisfied: requests-oauthlib>=0.7.0 in /usr/local/lib/python3.7/dist-packages (from google-auth-oauthlib<0.5,>=0.4.1->tensorboard<2.11,>=2.10->tensorflow<2.11,>=2.10.0->tensorflow-text) (1.3.1)\n",
            "Requirement already satisfied: importlib-metadata>=4.4 in /usr/local/lib/python3.7/dist-packages (from markdown>=2.6.8->tensorboard<2.11,>=2.10->tensorflow<2.11,>=2.10.0->tensorflow-text) (4.13.0)\n",
            "Requirement already satisfied: zipp>=0.5 in /usr/local/lib/python3.7/dist-packages (from importlib-metadata>=4.4->markdown>=2.6.8->tensorboard<2.11,>=2.10->tensorflow<2.11,>=2.10.0->tensorflow-text) (3.10.0)\n",
            "Requirement already satisfied: pyasn1<0.5.0,>=0.4.6 in /usr/local/lib/python3.7/dist-packages (from pyasn1-modules>=0.2.1->google-auth<3,>=1.6.3->tensorboard<2.11,>=2.10->tensorflow<2.11,>=2.10.0->tensorflow-text) (0.4.8)\n",
            "Requirement already satisfied: urllib3!=1.25.0,!=1.25.1,<1.26,>=1.21.1 in /usr/local/lib/python3.7/dist-packages (from requests<3,>=2.21.0->tensorboard<2.11,>=2.10->tensorflow<2.11,>=2.10.0->tensorflow-text) (1.24.3)\n",
            "Requirement already satisfied: idna<3,>=2.5 in /usr/local/lib/python3.7/dist-packages (from requests<3,>=2.21.0->tensorboard<2.11,>=2.10->tensorflow<2.11,>=2.10.0->tensorflow-text) (2.10)\n",
            "Requirement already satisfied: chardet<4,>=3.0.2 in /usr/local/lib/python3.7/dist-packages (from requests<3,>=2.21.0->tensorboard<2.11,>=2.10->tensorflow<2.11,>=2.10.0->tensorflow-text) (3.0.4)\n",
            "Requirement already satisfied: certifi>=2017.4.17 in /usr/local/lib/python3.7/dist-packages (from requests<3,>=2.21.0->tensorboard<2.11,>=2.10->tensorflow<2.11,>=2.10.0->tensorflow-text) (2022.9.24)\n",
            "Requirement already satisfied: oauthlib>=3.0.0 in /usr/local/lib/python3.7/dist-packages (from requests-oauthlib>=0.7.0->google-auth-oauthlib<0.5,>=0.4.1->tensorboard<2.11,>=2.10->tensorflow<2.11,>=2.10.0->tensorflow-text) (3.2.2)\n",
            "Requirement already satisfied: pyparsing!=3.0.5,>=2.0.2 in /usr/local/lib/python3.7/dist-packages (from packaging->tensorflow<2.11,>=2.10.0->tensorflow-text) (3.0.9)\n",
            "Installing collected packages: tensorflow-estimator, tensorboard, keras, flatbuffers, tensorflow, tensorflow-text\n",
            "  Attempting uninstall: tensorflow-estimator\n",
            "    Found existing installation: tensorflow-estimator 2.9.0\n",
            "    Uninstalling tensorflow-estimator-2.9.0:\n",
            "      Successfully uninstalled tensorflow-estimator-2.9.0\n",
            "  Attempting uninstall: tensorboard\n",
            "    Found existing installation: tensorboard 2.9.1\n",
            "    Uninstalling tensorboard-2.9.1:\n",
            "      Successfully uninstalled tensorboard-2.9.1\n",
            "  Attempting uninstall: keras\n",
            "    Found existing installation: keras 2.9.0\n",
            "    Uninstalling keras-2.9.0:\n",
            "      Successfully uninstalled keras-2.9.0\n",
            "  Attempting uninstall: flatbuffers\n",
            "    Found existing installation: flatbuffers 1.12\n",
            "    Uninstalling flatbuffers-1.12:\n",
            "      Successfully uninstalled flatbuffers-1.12\n",
            "  Attempting uninstall: tensorflow\n",
            "    Found existing installation: tensorflow 2.9.2\n",
            "    Uninstalling tensorflow-2.9.2:\n",
            "      Successfully uninstalled tensorflow-2.9.2\n",
            "Successfully installed flatbuffers-22.10.26 keras-2.10.0 tensorboard-2.10.1 tensorflow-2.10.0 tensorflow-estimator-2.10.0 tensorflow-text-2.10.0\n"
          ]
        }
      ],
      "source": [
        "!pip install navec\n",
        "!pip install tensorflow-text"
      ]
    },
    {
      "cell_type": "code",
      "source": [
        "import numpy as np\n",
        "import matplotlib.pyplot as plt\n",
        "import tensorflow as tf\n",
        "import tensorflow_text as tf_text\n",
        "from navec import Navec"
      ],
      "metadata": {
        "id": "nK_Afj6Jg6BC"
      },
      "execution_count": 3,
      "outputs": []
    },
    {
      "cell_type": "code",
      "source": [
        "class Nl2SqlTranslator(tf.keras.Model):\n",
        "    def __init__(self, nl_text_processor, sql_text_processor, navec, unit=300):\n",
        "        super().__init__()\n",
        "        # Natural language\n",
        "        self.nl_text_processor = nl_text_processor\n",
        "        self.nl_voba_size = len(nl_text_processor.get_vocabulary())\n",
        "        \n",
        "        self.nl_embedding = tf.keras.layers.Embedding(\n",
        "            self.nl_voba_size,\n",
        "            output_dim=unit,\n",
        "            mask_zero=True)\n",
        "        \n",
        "        fixed_embedding_matrix = np.zeros((self.nl_voba_size, unit))\n",
        "        for i, word in enumerate(nl_text_processor.get_vocabulary()):\n",
        "            fixed_embedding_matrix[i] = navec.get(word, navec['<pad>'])\n",
        "        self.fixed_embedding = tf.keras.layers.Embedding(\n",
        "            input_dim=self.nl_voba_size,\n",
        "            output_dim=unit,\n",
        "            embeddings_initializer=tf.keras.initializers.Constant(fixed_embedding_matrix),\n",
        "            trainable=False,\n",
        "            mask_zero=True)\n",
        "        \n",
        "        self.nl_rnn = tf.keras.layers.Bidirectional(layer=tf.keras.layers.LSTM(int(unit/2), return_sequences=True, return_state=True))\n",
        "        # Attention\n",
        "        self.attention = tf.keras.layers.Attention()\n",
        "        # SQL\n",
        "        self.sql_text_processor = sql_text_processor\n",
        "        self.sql_voba_size = len(sql_text_processor.get_vocabulary())\n",
        "        self.sql_embedding = tf.keras.layers.Embedding(\n",
        "            self.sql_voba_size,\n",
        "            output_dim=unit,\n",
        "            mask_zero=True)\n",
        "        self.sql_rnn = tf.keras.layers.LSTM(unit, return_sequences=True, return_state=True)\n",
        "        # Output\n",
        "        self.out = tf.keras.layers.Dense(self.sql_voba_size)\n",
        "            \n",
        "    def __call__(self, nl_text, sql_text, training=True):\n",
        "        nl_tokens = self.nl_text_processor(nl_text) # Shape: (batch, Ts)\n",
        "        nl_vectors = self.nl_embedding(nl_tokens, training=training) # Shape: (batch, Ts, embedding_dim)\n",
        "        nl_fixed_vectors = self.fixed_embedding(nl_tokens) # Shape: (batch, Ts, 100)\n",
        "        nl_combined_vectors = tf.concat([nl_vectors, nl_fixed_vectors], -1) # Shape: (batch, Ts, embedding_dim+100)\n",
        "        nl_rnn_out, fhstate, fcstate, bhstate, bcstate = self.nl_rnn(nl_combined_vectors, training=training) # Shape: (batch, Ts, bi_rnn_output_dim), (batch, rnn_output_dim) ...\n",
        "        nl_hstate = tf.concat([fhstate, bhstate], -1)\n",
        "        nl_cstate = tf.concat([fcstate, bcstate], -1)\n",
        "        \n",
        "        sql_tokens = self.sql_text_processor(sql_text) # Shape: (batch, Te)\n",
        "        expected = sql_tokens[:,1:] # Shape: (batch, Te-1)\n",
        "        \n",
        "        teacher_forcing = sql_tokens[:,:-1] # Shape: (batch, Te-1)\n",
        "        sql_vectors = self.sql_embedding(teacher_forcing, training=training) # Shape: (batch, Te-1, embedding_dim)\n",
        "        sql_in = self.attention(inputs=[sql_vectors,nl_rnn_out], mask=[sql_vectors._keras_mask, nl_rnn_out._keras_mask], training=training)\n",
        "        \n",
        "        trans_vectors, _, _ = self.sql_rnn(sql_in, initial_state=[nl_hstate, nl_cstate], training=training) # Shape: (batch, Te-1, rnn_output_dim)\n",
        "        out = self.out(trans_vectors, training=training) # Shape: (batch, Te-1, sql_vocab_size)\n",
        "        return out, expected, out._keras_mask"
      ],
      "metadata": {
        "id": "GRWN3pQPg3j8"
      },
      "execution_count": 4,
      "outputs": []
    },
    {
      "cell_type": "code",
      "source": [
        "def train(dataset, epochs, model, batch=64, shuffle=1000):\n",
        "    loss_fcn = tf.keras.losses.SparseCategoricalCrossentropy(\n",
        "        from_logits=True,\n",
        "        reduction=tf.keras.losses.Reduction.NONE)\n",
        "    opt = tf.keras.optimizers.Adam()\n",
        "    losses = []\n",
        "    ds = dataset.shuffle(shuffle).batch(batch).cache()\n",
        "    \n",
        "    print(\"Training started...\")\n",
        "    \n",
        "    for epoch in range(epochs):\n",
        "        epoch_losses = []\n",
        "        for nl_text, sql_text in ds:\n",
        "            with tf.GradientTape() as tape:\n",
        "                logits, expected, mask = model(nl_text, sql_text)\n",
        "                loss = loss_fcn(expected, logits)\n",
        "                loss = tf.ragged.boolean_mask(loss, mask)\n",
        "                loss = tf.reduce_sum(loss) * (1. / batch)\n",
        "                epoch_losses.append(loss.numpy())\n",
        "                grads = tape.gradient(loss, model.trainable_weights)\n",
        "                opt.apply_gradients(zip(grads, model.trainable_weights))\n",
        "        losses.append(np.mean(epoch_losses))\n",
        "        print('Trained epoch: {}; loss: {}'.format(epoch, losses[epoch]))\n",
        "        \n",
        "    plt.plot(losses)\n",
        "    plt.xlabel('Epoch')\n",
        "    plt.ylabel('Losses')"
      ],
      "metadata": {
        "id": "X0o_98wchZjB"
      },
      "execution_count": 5,
      "outputs": []
    },
    {
      "cell_type": "code",
      "source": [
        "def split(text):\n",
        "    parts = tf.strings.split(text, sep='\\t')\n",
        "    return parts[0], parts[1]"
      ],
      "metadata": {
        "id": "P72g3mJoheSO"
      },
      "execution_count": 6,
      "outputs": []
    },
    {
      "cell_type": "code",
      "source": [
        "def standardize(text):\n",
        "    # Split accecented characters.\n",
        "    text = tf_text.normalize_utf8(text, 'NFKD')\n",
        "    text = tf.strings.lower(text)\n",
        "    # # Keep space, a to z, and select punctuation.\n",
        "    # text = tf.strings.regex_replace(text, '[^\\w\\s.?!,:;\\{\\}\\(\\)\\[\\]]', '')\n",
        "    # # Add spaces around punctuation.\n",
        "    # text = tf.strings.regex_replace(text, '[.?!,¿]', r' \\0 ')\n",
        "    # Strip whitespace.\n",
        "    text = tf.strings.strip(text)\n",
        "\n",
        "    text = tf.strings.join(['[START]', text, '[END]'], separator=' ')\n",
        "    return text"
      ],
      "metadata": {
        "id": "19pS9jQtiGQd"
      },
      "execution_count": 7,
      "outputs": []
    },
    {
      "cell_type": "code",
      "source": [
        "dataset = tf.data.TextLineDataset(['nl2sql.txt']).map(split)\n",
        "nl_dataset = dataset.map(lambda nl, sql: nl)\n",
        "sql_dataset = dataset.map(lambda nl, sql: sql)"
      ],
      "metadata": {
        "id": "ug01a6xrhhlT"
      },
      "execution_count": 8,
      "outputs": []
    },
    {
      "cell_type": "code",
      "source": [
        "nl_text_processor = tf.keras.layers.TextVectorization(standardize=standardize, max_tokens=5000)\n",
        "sql_text_processor = tf.keras.layers.TextVectorization(standardize=standardize, max_tokens=5000)\n",
        "nl_text_processor.adapt(nl_dataset.batch(64))\n",
        "sql_text_processor.adapt(sql_dataset.batch(64))"
      ],
      "metadata": {
        "id": "D03P7uLCiK4C"
      },
      "execution_count": 9,
      "outputs": []
    },
    {
      "cell_type": "code",
      "source": [
        "path = './navec_hudlit_v1_12B_500K_300d_100q.tar'\n",
        "navec = Navec.load(path)"
      ],
      "metadata": {
        "id": "xUjFMZ7MiOPI"
      },
      "execution_count": 10,
      "outputs": []
    },
    {
      "cell_type": "code",
      "source": [
        "model = Nl2SqlTranslator(nl_text_processor, sql_text_processor, navec)"
      ],
      "metadata": {
        "id": "XvDNn0AdiyI3"
      },
      "execution_count": 14,
      "outputs": []
    },
    {
      "cell_type": "code",
      "source": [
        "train(dataset, 150, model)"
      ],
      "metadata": {
        "colab": {
          "base_uri": "https://localhost:8080/",
          "height": 1000
        },
        "id": "HLb2p0Hli8JL",
        "outputId": "86316d50-0887-413a-fbb6-b6a84759316e"
      },
      "execution_count": 15,
      "outputs": [
        {
          "output_type": "stream",
          "name": "stdout",
          "text": [
            "Training started...\n",
            "Trained epoch: 0; loss: 64.22322082519531\n",
            "Trained epoch: 1; loss: 63.31948471069336\n",
            "Trained epoch: 2; loss: 62.11433792114258\n",
            "Trained epoch: 3; loss: 59.98335266113281\n",
            "Trained epoch: 4; loss: 56.31269836425781\n",
            "Trained epoch: 5; loss: 52.59640884399414\n",
            "Trained epoch: 6; loss: 50.52315139770508\n",
            "Trained epoch: 7; loss: 48.9955940246582\n",
            "Trained epoch: 8; loss: 47.619773864746094\n",
            "Trained epoch: 9; loss: 46.37248229980469\n",
            "Trained epoch: 10; loss: 45.50846481323242\n",
            "Trained epoch: 11; loss: 44.73655319213867\n",
            "Trained epoch: 12; loss: 43.90521240234375\n",
            "Trained epoch: 13; loss: 43.0961799621582\n",
            "Trained epoch: 14; loss: 42.4491081237793\n",
            "Trained epoch: 15; loss: 41.86153030395508\n",
            "Trained epoch: 16; loss: 41.230228424072266\n",
            "Trained epoch: 17; loss: 40.52061462402344\n",
            "Trained epoch: 18; loss: 39.77604675292969\n",
            "Trained epoch: 19; loss: 39.04479217529297\n",
            "Trained epoch: 20; loss: 38.279396057128906\n",
            "Trained epoch: 21; loss: 37.443641662597656\n",
            "Trained epoch: 22; loss: 36.576969146728516\n",
            "Trained epoch: 23; loss: 35.68498611450195\n",
            "Trained epoch: 24; loss: 34.75578308105469\n",
            "Trained epoch: 25; loss: 33.913604736328125\n",
            "Trained epoch: 26; loss: 33.32179641723633\n",
            "Trained epoch: 27; loss: 32.554954528808594\n",
            "Trained epoch: 28; loss: 31.138294219970703\n",
            "Trained epoch: 29; loss: 30.572851181030273\n",
            "Trained epoch: 30; loss: 29.53852081298828\n",
            "Trained epoch: 31; loss: 28.437244415283203\n",
            "Trained epoch: 32; loss: 27.94668197631836\n",
            "Trained epoch: 33; loss: 26.640605926513672\n",
            "Trained epoch: 34; loss: 25.99077606201172\n",
            "Trained epoch: 35; loss: 25.2148494720459\n",
            "Trained epoch: 36; loss: 24.12430763244629\n",
            "Trained epoch: 37; loss: 23.61384391784668\n",
            "Trained epoch: 38; loss: 22.706218719482422\n",
            "Trained epoch: 39; loss: 21.771764755249023\n",
            "Trained epoch: 40; loss: 21.280588150024414\n",
            "Trained epoch: 41; loss: 20.628053665161133\n",
            "Trained epoch: 42; loss: 19.69961929321289\n",
            "Trained epoch: 43; loss: 19.09391975402832\n",
            "Trained epoch: 44; loss: 18.725147247314453\n",
            "Trained epoch: 45; loss: 18.1358642578125\n",
            "Trained epoch: 46; loss: 17.267518997192383\n",
            "Trained epoch: 47; loss: 16.65598487854004\n",
            "Trained epoch: 48; loss: 16.353607177734375\n",
            "Trained epoch: 49; loss: 15.73206615447998\n",
            "Trained epoch: 50; loss: 15.07716178894043\n",
            "Trained epoch: 51; loss: 14.622966766357422\n",
            "Trained epoch: 52; loss: 14.290925979614258\n",
            "Trained epoch: 53; loss: 13.857645988464355\n",
            "Trained epoch: 54; loss: 13.266677856445312\n",
            "Trained epoch: 55; loss: 12.712702751159668\n",
            "Trained epoch: 56; loss: 12.345498085021973\n",
            "Trained epoch: 57; loss: 12.106201171875\n",
            "Trained epoch: 58; loss: 11.790007591247559\n",
            "Trained epoch: 59; loss: 11.291484832763672\n",
            "Trained epoch: 60; loss: 10.73387622833252\n",
            "Trained epoch: 61; loss: 10.39998722076416\n",
            "Trained epoch: 62; loss: 10.20150375366211\n",
            "Trained epoch: 63; loss: 9.920482635498047\n",
            "Trained epoch: 64; loss: 9.4789457321167\n",
            "Trained epoch: 65; loss: 9.025771141052246\n",
            "Trained epoch: 66; loss: 8.828242301940918\n",
            "Trained epoch: 67; loss: 8.644122123718262\n",
            "Trained epoch: 68; loss: 8.292669296264648\n",
            "Trained epoch: 69; loss: 7.884164810180664\n",
            "Trained epoch: 70; loss: 7.663422107696533\n",
            "Trained epoch: 71; loss: 7.506431579589844\n",
            "Trained epoch: 72; loss: 7.261266231536865\n",
            "Trained epoch: 73; loss: 6.929649829864502\n",
            "Trained epoch: 74; loss: 6.683688640594482\n",
            "Trained epoch: 75; loss: 6.56373929977417\n",
            "Trained epoch: 76; loss: 6.315633296966553\n",
            "Trained epoch: 77; loss: 6.0654449462890625\n",
            "Trained epoch: 78; loss: 5.864988803863525\n",
            "Trained epoch: 79; loss: 5.729862213134766\n",
            "Trained epoch: 80; loss: 5.5436553955078125\n",
            "Trained epoch: 81; loss: 5.3229193687438965\n",
            "Trained epoch: 82; loss: 5.150347709655762\n",
            "Trained epoch: 83; loss: 5.015382766723633\n",
            "Trained epoch: 84; loss: 4.859062194824219\n",
            "Trained epoch: 85; loss: 4.677611351013184\n",
            "Trained epoch: 86; loss: 4.521964073181152\n",
            "Trained epoch: 87; loss: 4.390748023986816\n",
            "Trained epoch: 88; loss: 4.268456935882568\n",
            "Trained epoch: 89; loss: 4.123606204986572\n",
            "Trained epoch: 90; loss: 3.9830169677734375\n",
            "Trained epoch: 91; loss: 3.85445499420166\n",
            "Trained epoch: 92; loss: 3.7454330921173096\n",
            "Trained epoch: 93; loss: 3.6384990215301514\n",
            "Trained epoch: 94; loss: 3.5241620540618896\n",
            "Trained epoch: 95; loss: 3.4071576595306396\n",
            "Trained epoch: 96; loss: 3.294023036956787\n",
            "Trained epoch: 97; loss: 3.1947813034057617\n",
            "Trained epoch: 98; loss: 3.103147029876709\n",
            "Trained epoch: 99; loss: 3.0148839950561523\n",
            "Trained epoch: 100; loss: 2.9244582653045654\n",
            "Trained epoch: 101; loss: 2.831599473953247\n",
            "Trained epoch: 102; loss: 2.7404658794403076\n",
            "Trained epoch: 103; loss: 2.6543571949005127\n",
            "Trained epoch: 104; loss: 2.5745999813079834\n",
            "Trained epoch: 105; loss: 2.5007264614105225\n",
            "Trained epoch: 106; loss: 2.430027723312378\n",
            "Trained epoch: 107; loss: 2.36065411567688\n",
            "Trained epoch: 108; loss: 2.2910516262054443\n",
            "Trained epoch: 109; loss: 2.222426652908325\n",
            "Trained epoch: 110; loss: 2.156297206878662\n",
            "Trained epoch: 111; loss: 2.0939881801605225\n",
            "Trained epoch: 112; loss: 2.0360097885131836\n",
            "Trained epoch: 113; loss: 1.9807734489440918\n",
            "Trained epoch: 114; loss: 1.9268453121185303\n",
            "Trained epoch: 115; loss: 1.8732290267944336\n",
            "Trained epoch: 116; loss: 1.8207308053970337\n",
            "Trained epoch: 117; loss: 1.7705997228622437\n",
            "Trained epoch: 118; loss: 1.723138689994812\n",
            "Trained epoch: 119; loss: 1.678090214729309\n",
            "Trained epoch: 120; loss: 1.6342220306396484\n",
            "Trained epoch: 121; loss: 1.5910848379135132\n",
            "Trained epoch: 122; loss: 1.5491886138916016\n",
            "Trained epoch: 123; loss: 1.5091880559921265\n",
            "Trained epoch: 124; loss: 1.4717854261398315\n",
            "Trained epoch: 125; loss: 1.4360578060150146\n",
            "Trained epoch: 126; loss: 1.4013811349868774\n",
            "Trained epoch: 127; loss: 1.3669993877410889\n",
            "Trained epoch: 128; loss: 1.3338916301727295\n",
            "Trained epoch: 129; loss: 1.3022860288619995\n",
            "Trained epoch: 130; loss: 1.2720571756362915\n",
            "Trained epoch: 131; loss: 1.2426878213882446\n",
            "Trained epoch: 132; loss: 1.2141225337982178\n",
            "Trained epoch: 133; loss: 1.1866412162780762\n",
            "Trained epoch: 134; loss: 1.1602723598480225\n",
            "Trained epoch: 135; loss: 1.1346826553344727\n",
            "Trained epoch: 136; loss: 1.1097110509872437\n",
            "Trained epoch: 137; loss: 1.0854054689407349\n",
            "Trained epoch: 138; loss: 1.0620481967926025\n",
            "Trained epoch: 139; loss: 1.0394359827041626\n",
            "Trained epoch: 140; loss: 1.017427682876587\n",
            "Trained epoch: 141; loss: 0.9959810972213745\n",
            "Trained epoch: 142; loss: 0.975234866142273\n",
            "Trained epoch: 143; loss: 0.9551839232444763\n",
            "Trained epoch: 144; loss: 0.9356545805931091\n",
            "Trained epoch: 145; loss: 0.916607677936554\n",
            "Trained epoch: 146; loss: 0.898110568523407\n",
            "Trained epoch: 147; loss: 0.8801743388175964\n",
            "Trained epoch: 148; loss: 0.8627141714096069\n",
            "Trained epoch: 149; loss: 0.8456567525863647\n"
          ]
        },
        {
          "output_type": "display_data",
          "data": {
            "text/plain": [
              "<Figure size 432x288 with 1 Axes>"
            ],
            "image/png": "[encoded data removed]"
          },
          "metadata": {
            "needs_background": "light"
          }
        }
      ]
    },
    {
      "cell_type": "code",
      "source": [
        "def translate(nl_text, model, max_seq=100):\n",
        "    nl_tokens = model.nl_text_processor([tf.constant(nl_text)]) # Shape: (batch, Ts)\n",
        "    nl_vectors = model.nl_embedding(nl_tokens, training=False) # Shape: (batch, Ts, embedding_dim)\n",
        "    nl_fixed_vectors = model.fixed_embedding(nl_tokens) # Shape: (batch, Ts, 100)\n",
        "    nl_combined_vectors = tf.concat([nl_vectors, nl_fixed_vectors], -1) # Shape: (batch, Ts, embedding_dim+100)\n",
        "    nl_rnn_out, fhstate, fcstate, bhstate, bcstate = model.nl_rnn(nl_combined_vectors, training=False) # Shape: (batch, Ts, bi_rnn_output_dim), (batch, rnn_output_dim) ...\n",
        "    nl_hstate = tf.concat([fhstate, bhstate], -1)\n",
        "    nl_cstate = tf.concat([fcstate, bcstate], -1)\n",
        "    state = [nl_hstate, nl_cstate]\n",
        "\n",
        "    index_from_string = tf.keras.layers.StringLookup(\n",
        "        vocabulary=model.sql_text_processor.get_vocabulary(),\n",
        "        mask_token='')\n",
        "    trans = ['[START]']\n",
        "    vectors = []\n",
        "\n",
        "    for i in range(max_seq):\n",
        "        token = index_from_string([[trans[i]]]) # Shape: (1, 1)\n",
        "        vector = model.sql_embedding(token, training=False) # Shape: (1, 1, embedding_dim)\n",
        "        vectors.append(vector)\n",
        "        query = tf.concat(vectors, axis=1)\n",
        "        context = model.attention(inputs=[query, nl_rnn_out], training=False)\n",
        "        trans_vector, hstate, cstate = model.sql_rnn(context[:,-1:,:], initial_state=state, training=False) # Shape: (1, 1, rnn_output_dim), (1, rnn_output_dim), (1, rnn_output_dim)\n",
        "        state = [hstate, cstate]\n",
        "        out = model.out(trans_vector) # Shape: (1, 1, eng_vocab_size)\n",
        "        out = tf.squeeze(out) # Shape: (eng_vocab_size,)\n",
        "        word_index = tf.math.argmax(out)\n",
        "        word = model.sql_text_processor.get_vocabulary()[word_index]\n",
        "        trans.append(word)\n",
        "        if word == '[END]':\n",
        "            trans = trans[:-1]\n",
        "            break\n",
        "    _, atts = model.attention(inputs=[vectors, nl_rnn_out], return_attention_scores=True, training=False)\n",
        "    return ' '.join(trans[1:]), atts"
      ],
      "metadata": {
        "id": "hzCTbLmYJzwA"
      },
      "execution_count": 16,
      "outputs": []
    },
    {
      "cell_type": "code",
      "source": [
        "translate(\"Какие адреса где были соревнования лишь один раз\", model)[0]"
      ],
      "metadata": {
        "colab": {
          "base_uri": "https://localhost:8080/",
          "height": 35
        },
        "id": "yVqBrIbtJ51d",
        "outputId": "273af19b-ab84-4aac-e4ae-2d5093a7e659"
      },
      "execution_count": 19,
      "outputs": [
        {
          "output_type": "execute_result",
          "data": {
            "text/plain": [
              "'select * from (select address, count(*) c from sport s group by address) s where c = 1'"
            ],
            "application/vnd.google.colaboratory.intrinsic+json": {
              "type": "string"
            }
          },
          "metadata": {},
          "execution_count": 19
        }
      ]
    }
  ]
}